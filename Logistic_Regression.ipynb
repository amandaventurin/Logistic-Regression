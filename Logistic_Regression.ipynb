{
  "nbformat": 4,
  "nbformat_minor": 0,
  "metadata": {
    "colab": {
      "name": "Logistic_Regression.ipynb",
      "provenance": [],
      "collapsed_sections": [],
      "include_colab_link": true
    },
    "kernelspec": {
      "name": "python3",
      "display_name": "Python 3"
    }
  },
  "cells": [
    {
      "cell_type": "markdown",
      "metadata": {
        "id": "view-in-github",
        "colab_type": "text"
      },
      "source": [
        "<a href=\"https://colab.research.google.com/github/laiscarraro/Logistic-Regression/blob/master/Logistic_Regression.ipynb\" target=\"_parent\"><img src=\"https://colab.research.google.com/assets/colab-badge.svg\" alt=\"Open In Colab\"/></a>"
      ]
    },
    {
      "cell_type": "markdown",
      "metadata": {
        "id": "8AtoPTZ0QjkF",
        "colab_type": "text"
      },
      "source": [
        "# Regressão Logística\n",
        "\n",
        "## 1. Teoria\n",
        "\n",
        "## 1.1. Introdução\n",
        "A regressão logística é uma técnica de análise de interdependência entre variáveis que permite determinar a probabilidade da ocorrência de algum evento levando em consideração um conjunto de dados. A variável dependente deve ser **categórica** e o domínio do resultado da análise é o intervalo de [0,1]. A partir desse intervalo, é decidida a resposta do modelo (ex.: predizer se um e-mail é spam; 1 representa sim e 0 representa não).\n",
        "\n",
        "\n",
        "## 1.2. Regressão Linear vs Regressão Logística\n",
        "\n",
        "Na Regressão Linear, tínhamos uma variável dependente, por exemplo, Altura, e uma (ou mais) variável independente, por exemplo, Peso. Para determinar se a Altura varia de acordo com o Peso, ou seja, se essas variáveis possuem algum tipo de correlação, podemos calcular o $R^2$, calcular o *p-value* do teste de hipótese para determinar se o $R^2$ é estatisticamente significante e, por fim, utilizar uma reta, a reta ajustada, para fazer previsões com esse modelo. Para isso, utilizamos o método dos mínimos quadrados, minimizando a distância entre os pontos e a reta ajustada. Essa reta terá dois *coeficientes*, na forma: $$y = ax + b$$\n",
        "\n",
        "Onde $y$ é a variável dependente (que será prevista), $a$ é o coeficiente de inclinação da reta, $x$ é a variável independente e $b$ é o corte no eixo $y$.\n",
        "\n",
        "\n",
        "## 1.3. Regressão Logística\n",
        "\n",
        "Agora que já relembramos o básico da Regressão Linear, podemos avançar para a Regressão Logística. Os dois modelos são muito similares, mas a Regressão Logística, ao invés de prever uma variável numérica, como na Linear, é usada para prever uma variável **categórica**. A principal implicação dessa diferença é que, ao invés de um número contínuo, como Altura, por exemplo, o modelo de Regressão Logística retorna um vetor de **probabilidades**. Uma observação importante é a de que todas as variáveis independentes aplicadas no modelo devem ser literalmente independentes, ou seja, a correlação entre todos os pares deve ser nula (os vetores devem ser ortogonais). Uma forma de resolver o problema da multicolinearidade, como já visto na disciplina, é aplicando o método estatístico de Análise de Componentes Principais.\n",
        "\n",
        "Existem diversas formas de se utilizar a regressão logística. Na Regressão logística binária, como o próprio nome diz, o modelo retorna um valor binário para a variável dependente (ex.: se um tumor é benigno ou não). Na Regressão logística multinomial são retornados valores de 3 ou mais categorias sem nenhuma ordem em expecifico (e.g.: qual tipo de comida é mais comprada entre normal, vegetariana e vegana). Por fim, na Regressão logística ordinal são retornados valores de 3 ou mais categorias para a variável dependente, cada categoria em uma ordem expecifica (ex.: nota de um filme de 1 a 10).\n",
        "\n",
        "Outra grande diferença entre a Regressão Logística e a Regressão Linear é a forma de como ajustamos a curva (o caso a Linear, uma reta, e no caso da Logística, uma sigmoide) aos dados. Na Linear, utilizávamos o método de mínimos quadrados para minimizar os resíduos. No entanto, não é possível calcular os resíduos de uma sigmoide, e por isso o método utilizado é o de **máxima verossimilhança**. Nele, basicamente, deve ser calculada a verossimilhança do conjunto de dados dada uma curva, o que é feito da seguinte maneira: primeiro, deve-se calcular, para cada observação, a probabilidade encontrada pelo modelo; em seguida, multiplica-se todas as probabilidades, e essa será a verossimilhança. O algoritmo para quando encontra a curva com a maior verossimilhança.\n",
        "\n",
        "Agora, para um exemplo, vamos assumir uma variável dependente *Y* que pode apenas assumir 2 estados (1 e 0) e um conjunto de *p* variáveis independentes *X<sub>1</sub>, X<sub>2</sub>, ..., X<sub>p</sub>*. O modelo de regressão tem a forma: $$P(Y = 1) = {1 \\over 1 + e^{-g(x)}}$$\n",
        "\n",
        "\n",
        "<img src=\"https://miro.medium.com/max/1200/1*RqXFpiNGwdiKBWyLJc_E7g.png\" width= 700px aling=\"center\"/>\n",
        "\n",
        "Como pode ser visto, a imagem da função de regressão (*sig(t)*) é limitada entre 0 e 1. Também é importante ressaltar o valor de *g(x)* (na imagem, *t*), definido como: \n",
        "\n",
        "$$g(x) = B_0+B_1 X_1+...+B_p X_p$$\n",
        "\n",
        "Os coeficientes *B<sub>0</sub>, B<sub>1</sub>, ..., B<sub>p</sub>* são estimados a partir do conjunto dados, pelo\n",
        "método da máxima verossimilhança, como já mencionado.\n",
        "\n",
        "Conseguimos na Regressão Logística, também, prever os coeficientes da nossa \"curva\" ajustada. Para isso, devemos aplicar ao nosso vetor de probabilidades (eixo y) uma *transformação*, seja pela função **logit** ou pela **probit**. A função logit e a probit tem as formas respectivamente: $$logit = log({p \\over 1 - p}) \\hspace{1cm} probit =\\phi^{-1}(p)$$\n",
        "\n",
        "Onde *p* é a probabilidade do ensaio de Bernoulli de a variável dependente assumir o valor 1. A função probit, por sua vez, utiliza uma função normal inversa: ao invés de pegar um ponto da curva normal, que tem um domínio irrestrito, e encontrar na tabela de *z-scores* um valor correspondente de 0 a 1, fazemos o contrário; pegamos um valor que vai de 0 a 1 e o transformamos num valor com domínio irrestrito. Na prática, a logit e a probit têm o mesmo efeito e quase não afetam o modelo.\n",
        "\n",
        "Ao aplicar uma dessas transformações, a função passa para o formato de uma reta. A partir daí, podemos conseguir os coeficientes e gerar uma \"fórmula\" para o modelo de previsão.\n",
        "\n",
        "Por fim, para testar se uma variável (ou **feature**) de nosso modelo é estatisticamente significante, analisamos se a sua inclusão gera uma mudança significativamente maior do que 0. Para isso, utilizamos um testa chamado *Teste de Wald*.\n",
        "\n",
        "## 1.4. Testes\n",
        "\n",
        "Para este projeto foi utilizado um dos testes mais utilizados para a validação de modelos de regressão logística: O *Teste de Wald*.\n",
        "\n",
        "## Teste de Wald\n",
        "O teste de Wald tem como objetivo observar a regressão como um todo e decidir se uma variável ou coeficiente é tão significativo quanto zero. Basicamente, um coeficiente é considerado significativo quando o teste rejeita a hipótese nula de que ele tem o valor 0.\n",
        "\n",
        "Sendo assim, a definição da equação utilizada para um coeficiente *B<sub>i</sub>* qualquer em uma equação com *p* termos, onde *p* ∈ ℕ\\*, e *i < p*:$$Wald = {B_{i} \\over SE(B_{i})}$$\n",
        "\n",
        "Onde o *SE(B<sub>i</sub>) é o erro estatístico para um dado coeficiente *B<sub>i</sub>*.\n",
        "\n",
        "## 1.5. Implementação\n",
        "\n",
        "Abaixo, segue a implementação de um modelo de Regressão Logística num conjunto de dados sobre automóveis."
      ]
    },
    {
      "cell_type": "code",
      "metadata": {
        "id": "2YEU11FQeMGO",
        "colab_type": "code",
        "outputId": "fcbe0993-6f05-4b96-f4d5-2d263fd63658",
        "colab": {
          "resources": {
            "http://localhost:8080/nbextensions/google.colab/files.js": {
              "data": "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",
              "ok": true,
              "headers": [
                [
                  "content-type",
                  "application/javascript"
                ]
              ],
              "status": 200,
              "status_text": "OK"
            }
          },
          "base_uri": "https://localhost:8080/",
          "height": 429
        }
      },
      "source": [
        "import io\n",
        "import pandas as pd\n",
        "from google.colab import files\n",
        "import numpy as np\n",
        "import matplotlib.pyplot as plt \n",
        "from sklearn import preprocessing\n",
        "from sklearn.preprocessing import normalize\n",
        "import seaborn as sns\n",
        "from sklearn import preprocessing\n",
        "from sklearn.linear_model import LogisticRegression\n",
        "from sklearn.model_selection import train_test_split\n",
        "from sklearn.metrics import classification_report\n",
        "from sklearn.metrics import confusion_matrix\n",
        "from sklearn.metrics import accuracy_score\n",
        "from sklearn import metrics\n",
        "from sklearn.model_selection import cross_val_score\n",
        "\n",
        "uploaded = files.upload()\n",
        "\n",
        "data = pd.read_csv(io.BytesIO(uploaded['auto-mpg1.csv']))\n",
        "\n",
        "# alteramos o atributo mpg para se este é maior ou igual que 23 ou não\n",
        "data['mpg'] = data['mpg'].apply(lambda x: 1 if x>=23.0 else 0)\n",
        "\n",
        "data.head(10)"
      ],
      "execution_count": 0,
      "outputs": [
        {
          "output_type": "display_data",
          "data": {
            "text/html": [
              "\n",
              "     <input type=\"file\" id=\"files-0ea3d83f-b4f9-4bfc-ad99-2a6d02d02803\" name=\"files[]\" multiple disabled />\n",
              "     <output id=\"result-0ea3d83f-b4f9-4bfc-ad99-2a6d02d02803\">\n",
              "      Upload widget is only available when the cell has been executed in the\n",
              "      current browser session. Please rerun this cell to enable.\n",
              "      </output>\n",
              "      <script src=\"/nbextensions/google.colab/files.js\"></script> "
            ],
            "text/plain": [
              "<IPython.core.display.HTML object>"
            ]
          },
          "metadata": {
            "tags": []
          }
        },
        {
          "output_type": "stream",
          "text": [
            "Saving auto-mpg1.csv to auto-mpg1 (1).csv\n"
          ],
          "name": "stdout"
        },
        {
          "output_type": "execute_result",
          "data": {
            "text/html": [
              "<div>\n",
              "<style scoped>\n",
              "    .dataframe tbody tr th:only-of-type {\n",
              "        vertical-align: middle;\n",
              "    }\n",
              "\n",
              "    .dataframe tbody tr th {\n",
              "        vertical-align: top;\n",
              "    }\n",
              "\n",
              "    .dataframe thead th {\n",
              "        text-align: right;\n",
              "    }\n",
              "</style>\n",
              "<table border=\"1\" class=\"dataframe\">\n",
              "  <thead>\n",
              "    <tr style=\"text-align: right;\">\n",
              "      <th></th>\n",
              "      <th>mpg</th>\n",
              "      <th>cilindros</th>\n",
              "      <th>cilindradas</th>\n",
              "      <th>cavalos</th>\n",
              "      <th>peso</th>\n",
              "      <th>aceleração</th>\n",
              "      <th>ano</th>\n",
              "      <th>origem</th>\n",
              "      <th>nome</th>\n",
              "    </tr>\n",
              "  </thead>\n",
              "  <tbody>\n",
              "    <tr>\n",
              "      <th>0</th>\n",
              "      <td>0</td>\n",
              "      <td>8</td>\n",
              "      <td>307.0</td>\n",
              "      <td>130</td>\n",
              "      <td>3504</td>\n",
              "      <td>12.0</td>\n",
              "      <td>70</td>\n",
              "      <td>1</td>\n",
              "      <td>chevrolet chevelle malibu</td>\n",
              "    </tr>\n",
              "    <tr>\n",
              "      <th>1</th>\n",
              "      <td>0</td>\n",
              "      <td>8</td>\n",
              "      <td>350.0</td>\n",
              "      <td>165</td>\n",
              "      <td>3693</td>\n",
              "      <td>11.5</td>\n",
              "      <td>70</td>\n",
              "      <td>1</td>\n",
              "      <td>buick skylark 320</td>\n",
              "    </tr>\n",
              "    <tr>\n",
              "      <th>2</th>\n",
              "      <td>0</td>\n",
              "      <td>8</td>\n",
              "      <td>318.0</td>\n",
              "      <td>150</td>\n",
              "      <td>3436</td>\n",
              "      <td>11.0</td>\n",
              "      <td>70</td>\n",
              "      <td>1</td>\n",
              "      <td>plymouth satellite</td>\n",
              "    </tr>\n",
              "    <tr>\n",
              "      <th>3</th>\n",
              "      <td>0</td>\n",
              "      <td>8</td>\n",
              "      <td>304.0</td>\n",
              "      <td>150</td>\n",
              "      <td>3433</td>\n",
              "      <td>12.0</td>\n",
              "      <td>70</td>\n",
              "      <td>1</td>\n",
              "      <td>amc rebel sst</td>\n",
              "    </tr>\n",
              "    <tr>\n",
              "      <th>4</th>\n",
              "      <td>0</td>\n",
              "      <td>8</td>\n",
              "      <td>302.0</td>\n",
              "      <td>140</td>\n",
              "      <td>3449</td>\n",
              "      <td>10.5</td>\n",
              "      <td>70</td>\n",
              "      <td>1</td>\n",
              "      <td>ford torino</td>\n",
              "    </tr>\n",
              "    <tr>\n",
              "      <th>5</th>\n",
              "      <td>0</td>\n",
              "      <td>8</td>\n",
              "      <td>429.0</td>\n",
              "      <td>198</td>\n",
              "      <td>4341</td>\n",
              "      <td>10.0</td>\n",
              "      <td>70</td>\n",
              "      <td>1</td>\n",
              "      <td>ford galaxie 500</td>\n",
              "    </tr>\n",
              "    <tr>\n",
              "      <th>6</th>\n",
              "      <td>0</td>\n",
              "      <td>8</td>\n",
              "      <td>454.0</td>\n",
              "      <td>220</td>\n",
              "      <td>4354</td>\n",
              "      <td>9.0</td>\n",
              "      <td>70</td>\n",
              "      <td>1</td>\n",
              "      <td>chevrolet impala</td>\n",
              "    </tr>\n",
              "    <tr>\n",
              "      <th>7</th>\n",
              "      <td>0</td>\n",
              "      <td>8</td>\n",
              "      <td>440.0</td>\n",
              "      <td>215</td>\n",
              "      <td>4312</td>\n",
              "      <td>8.5</td>\n",
              "      <td>70</td>\n",
              "      <td>1</td>\n",
              "      <td>plymouth fury iii</td>\n",
              "    </tr>\n",
              "    <tr>\n",
              "      <th>8</th>\n",
              "      <td>0</td>\n",
              "      <td>8</td>\n",
              "      <td>455.0</td>\n",
              "      <td>225</td>\n",
              "      <td>4425</td>\n",
              "      <td>10.0</td>\n",
              "      <td>70</td>\n",
              "      <td>1</td>\n",
              "      <td>pontiac catalina</td>\n",
              "    </tr>\n",
              "    <tr>\n",
              "      <th>9</th>\n",
              "      <td>0</td>\n",
              "      <td>8</td>\n",
              "      <td>390.0</td>\n",
              "      <td>190</td>\n",
              "      <td>3850</td>\n",
              "      <td>8.5</td>\n",
              "      <td>70</td>\n",
              "      <td>1</td>\n",
              "      <td>amc ambassador dpl</td>\n",
              "    </tr>\n",
              "  </tbody>\n",
              "</table>\n",
              "</div>"
            ],
            "text/plain": [
              "   mpg  cilindros  cilindradas  ... ano  origem                       nome\n",
              "0    0          8        307.0  ...  70       1  chevrolet chevelle malibu\n",
              "1    0          8        350.0  ...  70       1          buick skylark 320\n",
              "2    0          8        318.0  ...  70       1         plymouth satellite\n",
              "3    0          8        304.0  ...  70       1              amc rebel sst\n",
              "4    0          8        302.0  ...  70       1                ford torino\n",
              "5    0          8        429.0  ...  70       1           ford galaxie 500\n",
              "6    0          8        454.0  ...  70       1           chevrolet impala\n",
              "7    0          8        440.0  ...  70       1          plymouth fury iii\n",
              "8    0          8        455.0  ...  70       1           pontiac catalina\n",
              "9    0          8        390.0  ...  70       1         amc ambassador dpl\n",
              "\n",
              "[10 rows x 9 columns]"
            ]
          },
          "metadata": {
            "tags": []
          },
          "execution_count": 7
        }
      ]
    },
    {
      "cell_type": "code",
      "metadata": {
        "id": "sJWfTHCkjLso",
        "colab_type": "code",
        "colab": {}
      },
      "source": [
        "# removemos entradas desconhecidas\n",
        "data.replace('?', np.nan, inplace=True)\n",
        "data = data.dropna()\n",
        "\n",
        "# colunas relevantes, sem coluna de nomes\n",
        "cols = ['cilindros', 'cilindradas', 'cavalos', 'peso', 'aceleração', 'ano', 'origem']\n",
        "\n",
        "#returns a numpy array\n",
        "min_max_scaler = preprocessing.MinMaxScaler()\n",
        "x_scaled = min_max_scaler.fit_transform(data[cols].values)\n",
        "data_norm = pd.DataFrame(x_scaled, columns = cols)"
      ],
      "execution_count": 0,
      "outputs": []
    },
    {
      "cell_type": "code",
      "metadata": {
        "id": "ZgMqMppUmpWF",
        "colab_type": "code",
        "outputId": "16fa29a9-6466-4b63-f13e-8de929b74a31",
        "colab": {
          "base_uri": "https://localhost:8080/",
          "height": 1000
        }
      },
      "source": [
        "#Scatter plots\n",
        "for col in data_norm.columns:\n",
        "  plt.scatter(data_norm[col], data['mpg'])\n",
        "  plt.xlabel(col)\n",
        "  plt.ylabel('mpg')\n",
        "  plt.show()"
      ],
      "execution_count": 0,
      "outputs": [
        {
          "output_type": "display_data",
          "data": {
            "image/png": "[encoded data removed]",
            "text/plain": [
              "<Figure size 432x288 with 1 Axes>"
            ]
          },
          "metadata": {
            "tags": []
          }
        },
        {
          "output_type": "display_data",
          "data": {
            "image/png": "[encoded data removed]",
            "text/plain": [
              "<Figure size 432x288 with 1 Axes>"
            ]
          },
          "metadata": {
            "tags": []
          }
        },
        {
          "output_type": "display_data",
          "data": {
            "image/png": "[encoded data removed]",
            "text/plain": [
              "<Figure size 432x288 with 1 Axes>"
            ]
          },
          "metadata": {
            "tags": []
          }
        },
        {
          "output_type": "display_data",
          "data": {
            "image/png": "[encoded data removed]",
            "text/plain": [
              "<Figure size 432x288 with 1 Axes>"
            ]
          },
          "metadata": {
            "tags": []
          }
        },
        {
          "output_type": "display_data",
          "data": {
            "image/png": "[encoded data removed]",
            "text/plain": [
              "<Figure size 432x288 with 1 Axes>"
            ]
          },
          "metadata": {
            "tags": []
          }
        },
        {
          "output_type": "display_data",
          "data": {
            "image/png": "[encoded data removed]",
            "text/plain": [
              "<Figure size 432x288 with 1 Axes>"
            ]
          },
          "metadata": {
            "tags": []
          }
        },
        {
          "output_type": "display_data",
          "data": {
            "image/png": "[encoded data removed]",
            "text/plain": [
              "<Figure size 432x288 with 1 Axes>"
            ]
          },
          "metadata": {
            "tags": []
          }
        }
      ]
    },
    {
      "cell_type": "code",
      "metadata": {
        "id": "x5AfPMSUYr5e",
        "colab_type": "code",
        "outputId": "b72591cc-91db-4e9d-c0d0-5d69cc20add6",
        "colab": {
          "base_uri": "https://localhost:8080/",
          "height": 86
        }
      },
      "source": [
        "#%%\n",
        "\n",
        "# X são as variáveis independentes, y é a variável dependente\n",
        "X = data[cols]\n",
        "y = data['mpg']\n",
        "\n",
        "# Teste chi-quadrado para verificar importância dos atributos\n",
        "from sklearn.feature_selection import chi2\n",
        "chi2val, pval = chi2(X, y)\n",
        "print(\"Chi-squared: \", chi2val)\n",
        "print(\"P-values: \", pval)\n",
        "\n",
        "# dividimos algumas entradas para teste\n",
        "X_train, X_test, y_train, y_test = train_test_split(X, y, test_size=0.3, random_state=0)\n",
        "\n",
        "# aplicamos modelo de regressão logística\n",
        "logreg = LogisticRegression(solver='liblinear')\n",
        "logreg.fit(X_train, y_train)\n",
        "\n",
        "# resultados do modelo\n",
        "Ptrain = logreg.predict(X_train)\n",
        "Ptest = logreg.predict(X_test)\n",
        "\n",
        "# vetor de probabilidades \n",
        "probability_test = logreg.predict_proba(X_test)\n",
        "probability_train = logreg.predict_proba(X_train)"
      ],
      "execution_count": 0,
      "outputs": [
        {
          "output_type": "stream",
          "text": [
            "Chi-squared:  [1.19836364e+02 1.25032219e+04 2.46734479e+03 5.44000454e+04\n",
            " 2.30335774e+01 1.29062584e+01 4.24660194e+01]\n",
            "P-values:  [6.87002984e-28 0.00000000e+00 0.00000000e+00 0.00000000e+00\n",
            " 1.59196561e-06 3.27485284e-04 7.19209350e-11]\n"
          ],
          "name": "stdout"
        }
      ]
    },
    {
      "cell_type": "code",
      "metadata": {
        "id": "yjGJbLBKY3bQ",
        "colab_type": "code",
        "outputId": "f5a51621-dcba-49f7-c675-0f5ff6b0d5d3",
        "colab": {
          "base_uri": "https://localhost:8080/",
          "height": 703
        }
      },
      "source": [
        "# testando o modelo \n",
        "print(classification_report(y_train, Ptrain))\n",
        "print(classification_report(y_test, Ptest))\n",
        "\n",
        "%matplotlib inline\n",
        "\n",
        "# calculando o score da predição\n",
        "score = logreg.score(X_test,y_test)\n",
        "print('Score: ', score)\n",
        "\n",
        "# Testando valores específicos no modelo com a confusion matrix\n",
        "cf = confusion_matrix(y_test, Ptest)\n",
        "accuracy = accuracy_score(y_test, Ptest)\n",
        "print(\"Confusion Matrix: \", cf)\n",
        "sns.heatmap(pd.DataFrame(confusion_matrix(y_test,Ptest)))\n",
        "plt.show()\n",
        "print(\"Accuracy: \", accuracy)\n",
        "\n",
        "\n",
        "# Cross-validation\n",
        "from sklearn.preprocessing import StandardScaler\n",
        "cross_val = cross_val_score(LogisticRegression(solver='liblinear'), X,y, scoring='accuracy', cv=10)\n",
        "print('Cross-Validation: ', cross_val)\n",
        "print('Cross-Validation mean: ', cross_val.mean())\n",
        "# normalizando X_test\n",
        "df_norm = pd.DataFrame(StandardScaler().fit_transform(X_test))\n",
        "\n"
      ],
      "execution_count": 0,
      "outputs": [
        {
          "output_type": "stream",
          "text": [
            "              precision    recall  f1-score   support\n",
            "\n",
            "           0       0.94      0.92      0.93       142\n",
            "           1       0.91      0.94      0.93       132\n",
            "\n",
            "    accuracy                           0.93       274\n",
            "   macro avg       0.93      0.93      0.93       274\n",
            "weighted avg       0.93      0.93      0.93       274\n",
            "\n",
            "              precision    recall  f1-score   support\n",
            "\n",
            "           0       0.88      0.83      0.86        54\n",
            "           1       0.87      0.91      0.89        64\n",
            "\n",
            "    accuracy                           0.87       118\n",
            "   macro avg       0.87      0.87      0.87       118\n",
            "weighted avg       0.87      0.87      0.87       118\n",
            "\n",
            "Score:  0.8728813559322034\n",
            "Confusion Matrix:  [[45  9]\n",
            " [ 6 58]]\n"
          ],
          "name": "stdout"
        },
        {
          "output_type": "display_data",
          "data": {
            "image/png": "[encoded data removed]",
            "text/plain": [
              "<Figure size 432x288 with 2 Axes>"
            ]
          },
          "metadata": {
            "tags": []
          }
        },
        {
          "output_type": "stream",
          "text": [
            "Accuracy:  0.8728813559322034\n",
            "Cross-Validation:  [0.925      0.875      0.9        0.95       0.85       0.9\n",
            " 0.97368421 0.92105263 0.84210526 0.84210526]\n",
            "Cross-Validation mean:  0.8978947368421053\n"
          ],
          "name": "stdout"
        }
      ]
    },
    {
      "cell_type": "code",
      "metadata": {
        "id": "GY463l_hY8lo",
        "colab_type": "code",
        "outputId": "f8b216d6-692b-4099-8c13-88644faeac8f",
        "colab": {
          "base_uri": "https://localhost:8080/",
          "height": 286
        }
      },
      "source": [
        "# probabilidade de ser 1\n",
        "probability_test_df = pd.DataFrame(probability_test)\n",
        "probability_t = pd.DataFrame(probability_test_df[0])\n",
        "\n",
        "# plotando o gráfico de probabilidades e colunas\n",
        "\n",
        "plt.scatter(df_norm[1], probability_test_df[0])\n",
        "plt.scatter(df_norm[2], probability_test_df[0])\n",
        "plt.scatter(df_norm[3], probability_test_df[0])"
      ],
      "execution_count": 0,
      "outputs": [
        {
          "output_type": "execute_result",
          "data": {
            "text/plain": [
              "<matplotlib.collections.PathCollection at 0x7f31dba50668>"
            ]
          },
          "metadata": {
            "tags": []
          },
          "execution_count": 18
        },
        {
          "output_type": "display_data",
          "data": {
            "image/png": "[encoded data removed]",
            "text/plain": [
              "<Figure size 432x288 with 1 Axes>"
            ]
          },
          "metadata": {
            "tags": []
          }
        }
      ]
    },
    {
      "cell_type": "code",
      "metadata": {
        "id": "ED-GecYIZ0WJ",
        "colab_type": "code",
        "outputId": "ba46e73a-9ea9-4463-fa74-57025abe24ba",
        "colab": {
          "base_uri": "https://localhost:8080/",
          "height": 286
        }
      },
      "source": [
        "# variaveis que podem ser desprezadas pro modelo\n",
        "\n",
        "plt.scatter(df_norm[0],probability_test_df[0])\n",
        "plt.scatter(df_norm[4],probability_test_df[1])\n",
        "plt.scatter(df_norm[5],probability_test_df[1])\n",
        "plt.scatter(df_norm[6],probability_test_df[1])\n"
      ],
      "execution_count": 0,
      "outputs": [
        {
          "output_type": "execute_result",
          "data": {
            "text/plain": [
              "<matplotlib.collections.PathCollection at 0x7f31db9ad550>"
            ]
          },
          "metadata": {
            "tags": []
          },
          "execution_count": 19
        },
        {
          "output_type": "display_data",
          "data": {
            "image/png": "[encoded data removed]",
            "text/plain": [
              "<Figure size 432x288 with 1 Axes>"
            ]
          },
          "metadata": {
            "tags": []
          }
        }
      ]
    },
    {
      "cell_type": "code",
      "metadata": {
        "id": "Eut8KiZTZ1Y_",
        "colab_type": "code",
        "outputId": "c73b93f7-15c3-41f0-f059-68df417d5768",
        "colab": {
          "base_uri": "https://localhost:8080/",
          "height": 52
        }
      },
      "source": [
        "# coefiencientes da reta de odds usando função logit\n",
        "logreg.coef_\n"
      ],
      "execution_count": 0,
      "outputs": [
        {
          "output_type": "execute_result",
          "data": {
            "text/plain": [
              "array([[-0.22891855, -0.00466729, -0.05623   , -0.00322998, -0.19088155,\n",
              "         0.25420821,  0.05010316]])"
            ]
          },
          "metadata": {
            "tags": []
          },
          "execution_count": 20
        }
      ]
    },
    {
      "cell_type": "code",
      "metadata": {
        "id": "yP9ekZENZ5Hq",
        "colab_type": "code",
        "outputId": "da25a0cb-e84e-4e97-adf0-b7b705820e04",
        "colab": {
          "base_uri": "https://localhost:8080/",
          "height": 34
        }
      },
      "source": [
        "# Leave-one-out Cross-validation\n",
        "# também conhecido como teste de jackknife\n",
        "# (reamostragem por retirar uma observação)\n",
        "\n",
        "from sklearn.model_selection import LeaveOneOut, cross_val_score\n",
        "loo = LeaveOneOut()\n",
        "scores = cross_val_score(logreg, X_test, y_test, cv=loo)\n",
        "\n",
        "# precisão do modelo e o intervalo de confiança\n",
        "print(\"Accuracy: %0.2f (+/- %0.2f)\" % (scores.mean(), scores.std() * 1.96))\n",
        "\n",
        "# notamos que leave-one-out/jackknife é um estimador que resulta em uma grande variância\n",
        "# https://scikit-learn.org/stable/modules/cross_validation.html#leave-one-out-loo\n",
        "# \"In terms of accuracy, LOO often results in high variance as an estimator for the test error.\"\n"
      ],
      "execution_count": 0,
      "outputs": [
        {
          "output_type": "stream",
          "text": [
            "Accuracy: 0.89 (+/- 0.61)\n"
          ],
          "name": "stdout"
        }
      ]
    },
    {
      "cell_type": "code",
      "metadata": {
        "id": "hckzf8kh4R2z",
        "colab_type": "code",
        "outputId": "292921c9-a633-492c-c23c-b38232834364",
        "colab": {
          "base_uri": "https://localhost:8080/",
          "height": 347
        }
      },
      "source": [
        "# isolamos apenas os atributos relevantes para o modelo\n",
        "cols = ['cilindradas', 'cavalos', 'peso']\n",
        "\n",
        "# reaplicamos o modelo com o dataset reduzido\n",
        "X = data[cols]\n",
        "\n",
        "# dividimos algumas entradas para teste\n",
        "X_train, X_test, y_train, y_test = train_test_split(X, y, test_size=0.3, random_state=0)\n",
        "\n",
        "# aplicamos modelo de regressão logística\n",
        "logreg = LogisticRegression(solver='liblinear')\n",
        "logreg.fit(X_train, y_train)\n",
        "\n",
        "# resultados do modelo\n",
        "Ptrain = logreg.predict(X_train)\n",
        "Ptest = logreg.predict(X_test)\n",
        "\n",
        "# vetor de probabilidades \n",
        "probability_test = logreg.predict_proba(X_test)\n",
        "probability_train = logreg.predict_proba(X_train)\n",
        "\n",
        "# testando o modelo \n",
        "print(classification_report(y_train, Ptrain))\n",
        "print(classification_report(y_test, Ptest))\n",
        "\n",
        "# reaplicamos teste jackknife\n",
        "scores = cross_val_score(logreg, X_test, y_test, cv=loo)\n",
        "\n",
        "# precisão do modelo e o intervalo de confiança\n",
        "print(\"Accuracy: %0.2f (+/- %0.2f)\" % (scores.mean(), scores.std() * 1.96))"
      ],
      "execution_count": 0,
      "outputs": [
        {
          "output_type": "stream",
          "text": [
            "              precision    recall  f1-score   support\n",
            "\n",
            "           0       0.96      0.85      0.90       142\n",
            "           1       0.86      0.96      0.91       132\n",
            "\n",
            "    accuracy                           0.91       274\n",
            "   macro avg       0.91      0.91      0.91       274\n",
            "weighted avg       0.91      0.91      0.90       274\n",
            "\n",
            "              precision    recall  f1-score   support\n",
            "\n",
            "           0       0.88      0.81      0.85        54\n",
            "           1       0.85      0.91      0.88        64\n",
            "\n",
            "    accuracy                           0.86       118\n",
            "   macro avg       0.87      0.86      0.86       118\n",
            "weighted avg       0.87      0.86      0.86       118\n",
            "\n",
            "Accuracy: 0.85 (+/- 0.70)\n"
          ],
          "name": "stdout"
        }
      ]
    },
    {
      "cell_type": "code",
      "metadata": {
        "id": "9AtYb_Pl4ta6",
        "colab_type": "code",
        "colab": {}
      },
      "source": [
        ""
      ],
      "execution_count": 0,
      "outputs": []
    }
  ]
}